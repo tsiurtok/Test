{
 "cells": [
  {
   "cell_type": "code",
   "execution_count": null,
   "metadata": {},
   "outputs": [],
   "source": [
    "\"\"\"1. Прочтите статью Array Broadcasting in Numpy.\n",
    "Для следующих упражнений загрузите набор данных фильма по этой ссылке\n",
    "(откройте ссылку и используйте «Сохранить как», чтобы загрузить файл)\"\"\"\n",
    "\n",
    "# Done!"
   ]
  },
  {
   "cell_type": "code",
   "execution_count": 6,
   "metadata": {},
   "outputs": [],
   "source": [
    "#2. Загрузите набор данных фильмов в pandas\n",
    "import pandas as pd\n",
    "import numpy as np\n",
    "import matplotlib.pyplot as plt\n",
    "import seaborn as sns\n",
    "movies = pd.read_csv(\"movies.csv\")"
   ]
  },
  {
   "cell_type": "code",
   "execution_count": 7,
   "metadata": {},
   "outputs": [
    {
     "data": {
      "text/html": [
       "<div>\n",
       "<style scoped>\n",
       "    .dataframe tbody tr th:only-of-type {\n",
       "        vertical-align: middle;\n",
       "    }\n",
       "\n",
       "    .dataframe tbody tr th {\n",
       "        vertical-align: top;\n",
       "    }\n",
       "\n",
       "    .dataframe thead th {\n",
       "        text-align: right;\n",
       "    }\n",
       "</style>\n",
       "<table border=\"1\" class=\"dataframe\">\n",
       "  <thead>\n",
       "    <tr style=\"text-align: right;\">\n",
       "      <th></th>\n",
       "      <th>Film</th>\n",
       "      <th>Genre</th>\n",
       "      <th>Lead Studio</th>\n",
       "      <th>Audience score %</th>\n",
       "      <th>Profitability</th>\n",
       "      <th>Rotten Tomatoes %</th>\n",
       "      <th>Worldwide Gross</th>\n",
       "      <th>Year</th>\n",
       "    </tr>\n",
       "  </thead>\n",
       "  <tbody>\n",
       "    <tr>\n",
       "      <th>0</th>\n",
       "      <td>Zack and Miri Make a Porno</td>\n",
       "      <td>Romance</td>\n",
       "      <td>The Weinstein Company</td>\n",
       "      <td>70</td>\n",
       "      <td>1.747542</td>\n",
       "      <td>64</td>\n",
       "      <td>$41.94</td>\n",
       "      <td>2008</td>\n",
       "    </tr>\n",
       "    <tr>\n",
       "      <th>1</th>\n",
       "      <td>Youth in Revolt</td>\n",
       "      <td>Comedy</td>\n",
       "      <td>The Weinstein Company</td>\n",
       "      <td>52</td>\n",
       "      <td>1.090000</td>\n",
       "      <td>68</td>\n",
       "      <td>$19.62</td>\n",
       "      <td>2010</td>\n",
       "    </tr>\n",
       "    <tr>\n",
       "      <th>2</th>\n",
       "      <td>You Will Meet a Tall Dark Stranger</td>\n",
       "      <td>Comedy</td>\n",
       "      <td>Independent</td>\n",
       "      <td>35</td>\n",
       "      <td>1.211818</td>\n",
       "      <td>43</td>\n",
       "      <td>$26.66</td>\n",
       "      <td>2010</td>\n",
       "    </tr>\n",
       "    <tr>\n",
       "      <th>3</th>\n",
       "      <td>When in Rome</td>\n",
       "      <td>Comedy</td>\n",
       "      <td>Disney</td>\n",
       "      <td>44</td>\n",
       "      <td>0.000000</td>\n",
       "      <td>15</td>\n",
       "      <td>$43.04</td>\n",
       "      <td>2010</td>\n",
       "    </tr>\n",
       "    <tr>\n",
       "      <th>4</th>\n",
       "      <td>What Happens in Vegas</td>\n",
       "      <td>Comedy</td>\n",
       "      <td>Fox</td>\n",
       "      <td>72</td>\n",
       "      <td>6.267647</td>\n",
       "      <td>28</td>\n",
       "      <td>$219.37</td>\n",
       "      <td>2008</td>\n",
       "    </tr>\n",
       "  </tbody>\n",
       "</table>\n",
       "</div>"
      ],
      "text/plain": [
       "                                 Film    Genre            Lead Studio   \n",
       "0          Zack and Miri Make a Porno  Romance  The Weinstein Company  \\\n",
       "1                     Youth in Revolt   Comedy  The Weinstein Company   \n",
       "2  You Will Meet a Tall Dark Stranger   Comedy            Independent   \n",
       "3                        When in Rome   Comedy                 Disney   \n",
       "4               What Happens in Vegas   Comedy                    Fox   \n",
       "\n",
       "   Audience score %  Profitability  Rotten Tomatoes % Worldwide Gross  Year  \n",
       "0                70       1.747542                 64         $41.94   2008  \n",
       "1                52       1.090000                 68         $19.62   2010  \n",
       "2                35       1.211818                 43         $26.66   2010  \n",
       "3                44       0.000000                 15         $43.04   2010  \n",
       "4                72       6.267647                 28        $219.37   2008  "
      ]
     },
     "execution_count": 7,
     "metadata": {},
     "output_type": "execute_result"
    }
   ],
   "source": [
    "#3. Перечислите все столбцы набора данных и изучите их типы. Изучите статистику по различным областям. Опишите, какие данные у нас есть.\n",
    "movies.head()"
   ]
  },
  {
   "cell_type": "code",
   "execution_count": 8,
   "metadata": {},
   "outputs": [
    {
     "data": {
      "text/plain": [
       "Index(['Film', 'Genre', 'Lead Studio', 'Audience score %', 'Profitability',\n",
       "       'Rotten Tomatoes %', 'Worldwide Gross', 'Year'],\n",
       "      dtype='object')"
      ]
     },
     "execution_count": 8,
     "metadata": {},
     "output_type": "execute_result"
    }
   ],
   "source": [
    "movies.columns"
   ]
  },
  {
   "cell_type": "code",
   "execution_count": 9,
   "metadata": {},
   "outputs": [
    {
     "data": {
      "text/plain": [
       "(77, 8)"
      ]
     },
     "execution_count": 9,
     "metadata": {},
     "output_type": "execute_result"
    }
   ],
   "source": [
    "#4 Сколько всего фильмов в наборе данных?\n",
    "#В наборі 77 фільмів\n",
    "movies.shape"
   ]
  },
  {
   "cell_type": "code",
   "execution_count": 10,
   "metadata": {},
   "outputs": [
    {
     "data": {
      "text/html": [
       "<div>\n",
       "<style scoped>\n",
       "    .dataframe tbody tr th:only-of-type {\n",
       "        vertical-align: middle;\n",
       "    }\n",
       "\n",
       "    .dataframe tbody tr th {\n",
       "        vertical-align: top;\n",
       "    }\n",
       "\n",
       "    .dataframe thead th {\n",
       "        text-align: right;\n",
       "    }\n",
       "</style>\n",
       "<table border=\"1\" class=\"dataframe\">\n",
       "  <thead>\n",
       "    <tr style=\"text-align: right;\">\n",
       "      <th></th>\n",
       "      <th>Audience score %</th>\n",
       "      <th>Profitability</th>\n",
       "      <th>Rotten Tomatoes %</th>\n",
       "      <th>Year</th>\n",
       "    </tr>\n",
       "  </thead>\n",
       "  <tbody>\n",
       "    <tr>\n",
       "      <th>count</th>\n",
       "      <td>77.000000</td>\n",
       "      <td>77.000000</td>\n",
       "      <td>77.000000</td>\n",
       "      <td>77.000000</td>\n",
       "    </tr>\n",
       "    <tr>\n",
       "      <th>mean</th>\n",
       "      <td>63.727273</td>\n",
       "      <td>4.599483</td>\n",
       "      <td>46.701299</td>\n",
       "      <td>2009.077922</td>\n",
       "    </tr>\n",
       "    <tr>\n",
       "      <th>std</th>\n",
       "      <td>13.657113</td>\n",
       "      <td>8.031990</td>\n",
       "      <td>26.095001</td>\n",
       "      <td>1.354974</td>\n",
       "    </tr>\n",
       "    <tr>\n",
       "      <th>min</th>\n",
       "      <td>35.000000</td>\n",
       "      <td>0.000000</td>\n",
       "      <td>3.000000</td>\n",
       "      <td>2007.000000</td>\n",
       "    </tr>\n",
       "    <tr>\n",
       "      <th>25%</th>\n",
       "      <td>52.000000</td>\n",
       "      <td>1.751351</td>\n",
       "      <td>26.000000</td>\n",
       "      <td>2008.000000</td>\n",
       "    </tr>\n",
       "    <tr>\n",
       "      <th>50%</th>\n",
       "      <td>64.000000</td>\n",
       "      <td>2.642353</td>\n",
       "      <td>45.000000</td>\n",
       "      <td>2009.000000</td>\n",
       "    </tr>\n",
       "    <tr>\n",
       "      <th>75%</th>\n",
       "      <td>76.000000</td>\n",
       "      <td>5.103117</td>\n",
       "      <td>64.000000</td>\n",
       "      <td>2010.000000</td>\n",
       "    </tr>\n",
       "    <tr>\n",
       "      <th>max</th>\n",
       "      <td>89.000000</td>\n",
       "      <td>66.934000</td>\n",
       "      <td>96.000000</td>\n",
       "      <td>2011.000000</td>\n",
       "    </tr>\n",
       "  </tbody>\n",
       "</table>\n",
       "</div>"
      ],
      "text/plain": [
       "       Audience score %  Profitability  Rotten Tomatoes %         Year\n",
       "count         77.000000      77.000000          77.000000    77.000000\n",
       "mean          63.727273       4.599483          46.701299  2009.077922\n",
       "std           13.657113       8.031990          26.095001     1.354974\n",
       "min           35.000000       0.000000           3.000000  2007.000000\n",
       "25%           52.000000       1.751351          26.000000  2008.000000\n",
       "50%           64.000000       2.642353          45.000000  2009.000000\n",
       "75%           76.000000       5.103117          64.000000  2010.000000\n",
       "max           89.000000      66.934000          96.000000  2011.000000"
      ]
     },
     "execution_count": 10,
     "metadata": {},
     "output_type": "execute_result"
    }
   ],
   "source": [
    "movies.describe()"
   ]
  },
  {
   "cell_type": "code",
   "execution_count": 11,
   "metadata": {},
   "outputs": [
    {
     "data": {
      "text/html": [
       "<div>\n",
       "<style scoped>\n",
       "    .dataframe tbody tr th:only-of-type {\n",
       "        vertical-align: middle;\n",
       "    }\n",
       "\n",
       "    .dataframe tbody tr th {\n",
       "        vertical-align: top;\n",
       "    }\n",
       "\n",
       "    .dataframe thead th {\n",
       "        text-align: right;\n",
       "    }\n",
       "</style>\n",
       "<table border=\"1\" class=\"dataframe\">\n",
       "  <thead>\n",
       "    <tr style=\"text-align: right;\">\n",
       "      <th></th>\n",
       "      <th>Film</th>\n",
       "      <th>Genre</th>\n",
       "      <th>Lead Studio</th>\n",
       "      <th>Audience score %</th>\n",
       "      <th>Profitability</th>\n",
       "      <th>Rotten Tomatoes %</th>\n",
       "      <th>Worldwide Gross</th>\n",
       "      <th>Year</th>\n",
       "    </tr>\n",
       "  </thead>\n",
       "  <tbody>\n",
       "    <tr>\n",
       "      <th>0</th>\n",
       "      <td>False</td>\n",
       "      <td>False</td>\n",
       "      <td>False</td>\n",
       "      <td>False</td>\n",
       "      <td>False</td>\n",
       "      <td>False</td>\n",
       "      <td>False</td>\n",
       "      <td>False</td>\n",
       "    </tr>\n",
       "    <tr>\n",
       "      <th>1</th>\n",
       "      <td>False</td>\n",
       "      <td>False</td>\n",
       "      <td>False</td>\n",
       "      <td>False</td>\n",
       "      <td>False</td>\n",
       "      <td>False</td>\n",
       "      <td>False</td>\n",
       "      <td>False</td>\n",
       "    </tr>\n",
       "    <tr>\n",
       "      <th>2</th>\n",
       "      <td>False</td>\n",
       "      <td>False</td>\n",
       "      <td>False</td>\n",
       "      <td>False</td>\n",
       "      <td>False</td>\n",
       "      <td>False</td>\n",
       "      <td>False</td>\n",
       "      <td>False</td>\n",
       "    </tr>\n",
       "    <tr>\n",
       "      <th>3</th>\n",
       "      <td>False</td>\n",
       "      <td>False</td>\n",
       "      <td>False</td>\n",
       "      <td>False</td>\n",
       "      <td>False</td>\n",
       "      <td>False</td>\n",
       "      <td>False</td>\n",
       "      <td>False</td>\n",
       "    </tr>\n",
       "    <tr>\n",
       "      <th>4</th>\n",
       "      <td>False</td>\n",
       "      <td>False</td>\n",
       "      <td>False</td>\n",
       "      <td>False</td>\n",
       "      <td>False</td>\n",
       "      <td>False</td>\n",
       "      <td>False</td>\n",
       "      <td>False</td>\n",
       "    </tr>\n",
       "    <tr>\n",
       "      <th>...</th>\n",
       "      <td>...</td>\n",
       "      <td>...</td>\n",
       "      <td>...</td>\n",
       "      <td>...</td>\n",
       "      <td>...</td>\n",
       "      <td>...</td>\n",
       "      <td>...</td>\n",
       "      <td>...</td>\n",
       "    </tr>\n",
       "    <tr>\n",
       "      <th>72</th>\n",
       "      <td>False</td>\n",
       "      <td>False</td>\n",
       "      <td>False</td>\n",
       "      <td>False</td>\n",
       "      <td>False</td>\n",
       "      <td>False</td>\n",
       "      <td>False</td>\n",
       "      <td>False</td>\n",
       "    </tr>\n",
       "    <tr>\n",
       "      <th>73</th>\n",
       "      <td>False</td>\n",
       "      <td>False</td>\n",
       "      <td>False</td>\n",
       "      <td>False</td>\n",
       "      <td>False</td>\n",
       "      <td>False</td>\n",
       "      <td>False</td>\n",
       "      <td>False</td>\n",
       "    </tr>\n",
       "    <tr>\n",
       "      <th>74</th>\n",
       "      <td>False</td>\n",
       "      <td>False</td>\n",
       "      <td>False</td>\n",
       "      <td>False</td>\n",
       "      <td>False</td>\n",
       "      <td>False</td>\n",
       "      <td>False</td>\n",
       "      <td>False</td>\n",
       "    </tr>\n",
       "    <tr>\n",
       "      <th>75</th>\n",
       "      <td>False</td>\n",
       "      <td>False</td>\n",
       "      <td>False</td>\n",
       "      <td>False</td>\n",
       "      <td>False</td>\n",
       "      <td>False</td>\n",
       "      <td>False</td>\n",
       "      <td>False</td>\n",
       "    </tr>\n",
       "    <tr>\n",
       "      <th>76</th>\n",
       "      <td>False</td>\n",
       "      <td>False</td>\n",
       "      <td>False</td>\n",
       "      <td>False</td>\n",
       "      <td>False</td>\n",
       "      <td>False</td>\n",
       "      <td>False</td>\n",
       "      <td>False</td>\n",
       "    </tr>\n",
       "  </tbody>\n",
       "</table>\n",
       "<p>77 rows × 8 columns</p>\n",
       "</div>"
      ],
      "text/plain": [
       "     Film  Genre  Lead Studio  Audience score %  Profitability   \n",
       "0   False  False        False             False          False  \\\n",
       "1   False  False        False             False          False   \n",
       "2   False  False        False             False          False   \n",
       "3   False  False        False             False          False   \n",
       "4   False  False        False             False          False   \n",
       "..    ...    ...          ...               ...            ...   \n",
       "72  False  False        False             False          False   \n",
       "73  False  False        False             False          False   \n",
       "74  False  False        False             False          False   \n",
       "75  False  False        False             False          False   \n",
       "76  False  False        False             False          False   \n",
       "\n",
       "    Rotten Tomatoes %  Worldwide Gross   Year  \n",
       "0               False            False  False  \n",
       "1               False            False  False  \n",
       "2               False            False  False  \n",
       "3               False            False  False  \n",
       "4               False            False  False  \n",
       "..                ...              ...    ...  \n",
       "72              False            False  False  \n",
       "73              False            False  False  \n",
       "74              False            False  False  \n",
       "75              False            False  False  \n",
       "76              False            False  False  \n",
       "\n",
       "[77 rows x 8 columns]"
      ]
     },
     "execution_count": 11,
     "metadata": {},
     "output_type": "execute_result"
    }
   ],
   "source": [
    "movies.isnull()"
   ]
  },
  {
   "cell_type": "code",
   "execution_count": 12,
   "metadata": {},
   "outputs": [
    {
     "data": {
      "text/plain": [
       "2"
      ]
     },
     "execution_count": 12,
     "metadata": {},
     "output_type": "execute_result"
    }
   ],
   "source": [
    "movies.duplicated().sum()"
   ]
  },
  {
   "cell_type": "code",
   "execution_count": 13,
   "metadata": {},
   "outputs": [
    {
     "data": {
      "text/plain": [
       "0     False\n",
       "1     False\n",
       "2     False\n",
       "3     False\n",
       "4     False\n",
       "      ...  \n",
       "72    False\n",
       "73    False\n",
       "74    False\n",
       "75    False\n",
       "76    False\n",
       "Length: 77, dtype: bool"
      ]
     },
     "execution_count": 13,
     "metadata": {},
     "output_type": "execute_result"
    }
   ],
   "source": [
    "movies.duplicated()"
   ]
  },
  {
   "cell_type": "code",
   "execution_count": 14,
   "metadata": {},
   "outputs": [
    {
     "name": "stdout",
     "output_type": "stream",
     "text": [
      "Year\n",
      "2007    11\n",
      "2008    20\n",
      "2009    12\n",
      "2010    20\n",
      "2011    14\n",
      "Name: Year, dtype: int64\n"
     ]
    }
   ],
   "source": [
    "#5. Сколько фильмов содержится в наборе данных за каждый год?\n",
    "mov_year = movies.groupby('Year')['Year'].count()\n",
    "print(mov_year)"
   ]
  },
  {
   "cell_type": "code",
   "execution_count": 15,
   "metadata": {},
   "outputs": [
    {
     "name": "stdout",
     "output_type": "stream",
     "text": [
      "Наиболее прибыльные фильмы:\n",
      "                                   Film  Profitability\n",
      "68                           Fireproof      66.934000\n",
      "60  High School Musical 3: Senior Year      22.913136\n",
      "14         The Twilight Saga: New Moon      14.196400\n",
      "7                             Waitress      11.089742\n",
      "12                            Twilight      10.180027\n",
      "45                          Mamma Mia!       9.234454\n",
      "46                          Mamma Mia!       9.234454\n",
      "43                   Midnight in Paris       8.744706\n",
      "76                (500) Days of Summer       8.096000\n",
      "16                        The Proposal       7.867500\n",
      "\n",
      "Наименее прибыльные фильмы:\n",
      "                                   Film  Profitability\n",
      "3                         When in Rome       0.000000\n",
      "33                  Our Family Wedding       0.000000\n",
      "57                           Jane Eyre       0.000000\n",
      "8                  Waiting For Forever       0.005000\n",
      "42      Miss Pettigrew Lives for a Day       0.252895\n",
      "74                  A Dangerous Method       0.448645\n",
      "72                 Across the Universe       0.652603\n",
      "39                My Week with Marilyn       0.825800\n",
      "1                      Youth in Revolt       1.090000\n",
      "2   You Will Meet a Tall Dark Stranger       1.211818\n"
     ]
    }
   ],
   "source": [
    "#6. Покажите подробную информацию о наименее и наиболее прибыльных фильмах в наборе данных\n",
    "most_profitable = movies.sort_values('Profitability', ascending=False).head(10)\n",
    "least_profitable = movies.sort_values('Profitability').head(10)\n",
    "\n",
    "print('Наиболее прибыльные фильмы:\\n', most_profitable[['Film', 'Profitability']])\n",
    "print('\\nНаименее прибыльные фильмы:\\n', least_profitable[['Film', 'Profitability']])\n"
   ]
  },
  {
   "cell_type": "code",
   "execution_count": 1,
   "metadata": {},
   "outputs": [],
   "source": [
    "#7. Значение «Жанр» временами кажется непоследовательным; попробуйте найти эти несоответствия и исправить их\n",
    "\n",
    "# я не зміг виявити якусь непослідовність в жанрах"
   ]
  },
  {
   "cell_type": "code",
   "execution_count": 18,
   "metadata": {},
   "outputs": [],
   "source": [
    "#8. Сохраните (в новый файл CSV) 10 лучших комедий по количеству зрителей, покажите только название фильма, год и студию\n",
    "comedies = movies[movies['Genre'] == 'Comedy']\n",
    "top_10_comedies = movies[movies['Genre'] == 'Comedy'].sort_values(by='Audience score %', ascending=False).head(10)\n",
    "\n",
    "top_10_comedies.to_csv('top_10_comedies.csv', index=False, columns=['Film', 'Year', 'Lead Studio', 'Audience score %'])"
   ]
  },
  {
   "cell_type": "code",
   "execution_count": null,
   "metadata": {},
   "outputs": [],
   "source": [
    "#9 Используйте pip для установки двух библиотек: lxml, MySQL-connector-python.\n",
    "\"\"\"Collecting lxml\n",
    "  Downloading lxml-4.9.2-cp311-cp311-win_amd64.whl (3.8 MB)\n",
    "     ━━━━━━━━━━━━━━━━━━━━━━━━━━━━━━━━━━━━━━━━ 3.8/3.8 MB 1.4 MB/s eta 0:00:00\n",
    "Installing collected packages: lxml\n",
    "Successfully installed lxml-4.9.2\n",
    "\n",
    "[notice] A new release of pip is available: 23.0.1 -> 23.1.2\n",
    "[notice] To update, run: python.exe -m pip install --upgrade pip\"\"\"\n",
    "\n",
    "\n",
    "\n",
    "\"\"\"Collecting mysql-connector-python\n",
    "  Downloading mysql_connector_python-8.0.33-cp311-cp311-win_amd64.whl (9.6 MB)\n",
    "     ━━━━━━━━━━━━━━━━━━━━━━━━━━━━━━━━━━━━━━━━ 9.6/9.6 MB 2.5 MB/s eta 0:00:00\n",
    "Collecting protobuf<=3.20.3,>=3.11.0\n",
    "  Downloading protobuf-3.20.3-py2.py3-none-any.whl (162 kB)\n",
    "     ━━━━━━━━━━━━━━━━━━━━━━━━━━━━━━━━━━━━━━━━ 162.1/162.1 kB 1.9 MB/s eta 0:00:00\n",
    "Installing collected packages: protobuf, mysql-connector-python\n",
    "Successfully installed mysql-connector-python-8.0.33 protobuf-3.20.3\n",
    "\n",
    "[notice] A new release of pip is available: 23.0.1 -> 23.1.2\n",
    "[notice] To update, run: python.exe -m pip install --upgrade pip\"\"\""
   ]
  }
 ],
 "metadata": {
  "kernelspec": {
   "display_name": "Python 3",
   "language": "python",
   "name": "python3"
  },
  "language_info": {
   "codemirror_mode": {
    "name": "ipython",
    "version": 3
   },
   "file_extension": ".py",
   "mimetype": "text/x-python",
   "name": "python",
   "nbconvert_exporter": "python",
   "pygments_lexer": "ipython3",
   "version": "3.11.2"
  },
  "orig_nbformat": 4
 },
 "nbformat": 4,
 "nbformat_minor": 2
}
